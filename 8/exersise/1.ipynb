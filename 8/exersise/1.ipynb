{
 "cells": [
  {
   "cell_type": "code",
   "execution_count": 2,
   "metadata": {},
   "outputs": [],
   "source": [
    "import json"
   ]
  },
  {
   "cell_type": "code",
   "execution_count": 3,
   "metadata": {},
   "outputs": [],
   "source": [
    "def save_contacts(contacts, filename='contacts.json'):\n",
    "    with open(filename, 'w') as file:\n",
    "        json.dump(contacts, file, indent=4)\n",
    "    print(\"Contacts have been saved.\")"
   ]
  },
  {
   "cell_type": "code",
   "execution_count": 4,
   "metadata": {},
   "outputs": [],
   "source": [
    "def load_contacts(filename='contacts.json'):\n",
    "    try:\n",
    "        with open(filename, 'r') as file:\n",
    "            contacts = json.load(file)\n",
    "        return contacts\n",
    "    except FileNotFoundError:\n",
    "        print(\"File not found. No data exists.\")\n",
    "        return []"
   ]
  },
  {
   "cell_type": "code",
   "execution_count": 5,
   "metadata": {},
   "outputs": [],
   "source": [
    "def add_contact(contacts):\n",
    "    name = input(\"Enter contact name: \")\n",
    "    phone = input(\"Enter contact phone number: \")\n",
    "    contact = {'name': name, 'phone': phone}\n",
    "    contacts.append(contact)\n",
    "    print(\"Contact has been added.\")\n"
   ]
  },
  {
   "cell_type": "code",
   "execution_count": 6,
   "metadata": {},
   "outputs": [],
   "source": [
    "def display_contacts(contacts):\n",
    "    if not contacts:\n",
    "        print(\"No contacts available.\")\n",
    "    else:\n",
    "        print(\"List of contacts:\")\n",
    "        for contact in contacts:\n",
    "            print(f\"Name: {contact['name']}, Phone Number: {contact['phone']}\")"
   ]
  },
  {
   "cell_type": "code",
   "execution_count": 7,
   "metadata": {},
   "outputs": [
    {
     "name": "stdout",
     "output_type": "stream",
     "text": [
      "File not found. No data exists.\n",
      "\n",
      "1. Add a contact\n",
      "2. Display contacts\n",
      "3. Exit\n",
      "No contacts available.\n",
      "\n",
      "1. Add a contact\n",
      "2. Display contacts\n",
      "3. Exit\n",
      "Invalid option. Please try again.\n",
      "\n",
      "1. Add a contact\n",
      "2. Display contacts\n",
      "3. Exit\n",
      "Contact has been added.\n",
      "Contacts have been saved.\n",
      "\n",
      "1. Add a contact\n",
      "2. Display contacts\n",
      "3. Exit\n",
      "Exiting the program.\n"
     ]
    }
   ],
   "source": [
    "contacts = load_contacts()\n",
    "\n",
    "while True:\n",
    "    print(\"\\n1. Add a contact\")\n",
    "    print(\"2. Display contacts\")\n",
    "    print(\"3. Exit\")\n",
    "    choice = input(\"Please enter your choice: \")\n",
    "\n",
    "    if choice == '1':\n",
    "        add_contact(contacts)\n",
    "        save_contacts(contacts)\n",
    "    elif choice == '2':\n",
    "        display_contacts(contacts)\n",
    "    elif choice == '3':\n",
    "        print(\"Exiting the program.\")\n",
    "        break\n",
    "    else:\n",
    "        print(\"Invalid option. Please try again.\")"
   ]
  },
  {
   "cell_type": "code",
   "execution_count": null,
   "metadata": {},
   "outputs": [],
   "source": []
  }
 ],
 "metadata": {
  "kernelspec": {
   "display_name": "Python 3",
   "language": "python",
   "name": "python3"
  },
  "language_info": {
   "codemirror_mode": {
    "name": "ipython",
    "version": 3
   },
   "file_extension": ".py",
   "mimetype": "text/x-python",
   "name": "python",
   "nbconvert_exporter": "python",
   "pygments_lexer": "ipython3",
   "version": "3.10.5"
  }
 },
 "nbformat": 4,
 "nbformat_minor": 2
}
